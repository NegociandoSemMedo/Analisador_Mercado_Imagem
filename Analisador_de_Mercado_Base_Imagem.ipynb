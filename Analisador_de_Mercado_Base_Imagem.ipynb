{
  "nbformat": 4,
  "nbformat_minor": 0,
  "metadata": {
    "colab": {
      "provenance": [],
      "mount_file_id": "1uMu4R2sAdgdEtTD5eOUYhbRDbb4BFCug",
      "authorship_tag": "ABX9TyMGv1aiyHjJRhUKWG7rsuXG",
      "include_colab_link": true
    },
    "kernelspec": {
      "name": "python3",
      "display_name": "Python 3"
    },
    "language_info": {
      "name": "python"
    }
  },
  "cells": [
    {
      "cell_type": "markdown",
      "metadata": {
        "id": "view-in-github",
        "colab_type": "text"
      },
      "source": [
        "<a href=\"https://colab.research.google.com/github/NegociandoSemMedo/Analisador_Mercado_Imagem/blob/main/Analisador_de_Mercado_Base_Imagem.ipynb\" target=\"_parent\"><img src=\"https://colab.research.google.com/assets/colab-badge.svg\" alt=\"Open In Colab\"/></a>"
      ]
    },
    {
      "cell_type": "code",
      "execution_count": 18,
      "metadata": {
        "id": "UDGZT3oAV7WI",
        "colab": {
          "base_uri": "https://localhost:8080/"
        },
        "outputId": "919231b6-507d-4519-fc35-0492b06127f6"
      },
      "outputs": [
        {
          "output_type": "stream",
          "name": "stdout",
          "text": [
            "Requirement already satisfied: ansi2html in /usr/local/lib/python3.10/dist-packages (1.9.1)\n"
          ]
        }
      ],
      "source": [
        "# Instalando o pacote para IA generativa do google e ansi2html para mensagens mais elaboradas\n",
        "!pip install google-generativeai -q\n",
        "!pip install ansi2html"
      ]
    },
    {
      "cell_type": "code",
      "source": [
        "# Importando pacotes\n",
        "from google.colab import drive\n",
        "from google.colab import files\n",
        "from pathlib import Path\n",
        "from google.colab import userdata\n",
        "import hashlib\n",
        "from IPython.display import HTML\n",
        "from ansi2html import Ansi2HTMLConverter\n",
        "import google.generativeai as genai"
      ],
      "metadata": {
        "id": "ifirjQ91XjMd"
      },
      "execution_count": 19,
      "outputs": []
    },
    {
      "cell_type": "code",
      "source": [
        "# Função para formatar a resposta da GenAI\n",
        "def formatar_resposta(resposta):\n",
        "  conv = Ansi2HTMLConverter(dark_bg=False, scheme='solarized')\n",
        "  html = conv.convert(resposta)\n",
        "\n",
        "  # Adiciona estilo CSS para cores suaves, negrito, itálico e variações de fonte\n",
        "  html = f\"\"\"\n",
        "  <style>\n",
        "    body {{\n",
        "      font-family: sans-serif;\n",
        "      background-color: #f7f7f7;\n",
        "      color: #333;\n",
        "    }}\n",
        "    strong {{ font-weight: 600; }}\n",
        "    em {{ font-style: italic; }}\n",
        "    h1 {{ font-size: 1.3em; color: #555; }}\n",
        "    p {{ font-size: 1.1em; line-height: 1.6; }}\n",
        "    .destaque {{\n",
        "      font-size: 1.2em;\n",
        "      color: #333;\n",
        "      padding: 0.2em;\n",
        "      border-radius: 4px;\n",
        "      background-color: #e0e0e0;\n",
        "    }}\n",
        "  </style>\n",
        "  {html}\n",
        "  \"\"\"\n",
        "  return HTML(html)"
      ],
      "metadata": {
        "id": "ysszmsVKHx9_"
      },
      "execution_count": 20,
      "outputs": []
    },
    {
      "cell_type": "code",
      "source": [
        "# instruções de uso da aplicação\n",
        "response = \"Esta aplicação treina o modelo generativo do google para analisar uma imagem (print) de um gráfico de um ativo financeiro de acordo com o método que desenvolvi e retorna uma avaliação de contexto com possíveis cenários de operação. Faça um print de um gráfico que deseja analisar, salve-o em uma pasta do seu computador e carregue-o na aplicação quando solicitado.\"\n",
        "resposta_formatada = formatar_resposta(response)\n",
        "display(resposta_formatada)"
      ],
      "metadata": {
        "colab": {
          "base_uri": "https://localhost:8080/",
          "height": 69
        },
        "id": "Cj1URQw2H1ED",
        "outputId": "b6a582eb-3f2e-40d4-b758-8b49b8ae1bd5"
      },
      "execution_count": 21,
      "outputs": [
        {
          "output_type": "display_data",
          "data": {
            "text/plain": [
              "<IPython.core.display.HTML object>"
            ],
            "text/html": [
              "\n",
              "  <style>\n",
              "    body {\n",
              "      font-family: sans-serif;\n",
              "      background-color: #f7f7f7;\n",
              "      color: #333;\n",
              "    }\n",
              "    strong { font-weight: 600; }\n",
              "    em { font-style: italic; }\n",
              "    h1 { font-size: 1.3em; color: #555; }\n",
              "    p { font-size: 1.1em; line-height: 1.6; }\n",
              "    .destaque {\n",
              "      font-size: 1.2em;\n",
              "      color: #333;\n",
              "      padding: 0.2em;\n",
              "      border-radius: 4px;\n",
              "      background-color: #e0e0e0;\n",
              "    }\n",
              "  </style>\n",
              "  <!DOCTYPE HTML PUBLIC \"-//W3C//DTD HTML 4.01 Transitional//EN\" \"http://www.w3.org/TR/html4/loose.dtd\">\n",
              "<html>\n",
              "<head>\n",
              "<meta http-equiv=\"Content-Type\" content=\"text/html; charset=utf-8\">\n",
              "<title></title>\n",
              "<style type=\"text/css\">\n",
              ".ansi2html-content { display: inline; white-space: pre-wrap; word-wrap: break-word; }\n",
              ".body_foreground { color: #000000; }\n",
              ".body_background { background-color: #AAAAAA; }\n",
              ".inv_foreground { color: #AAAAAA; }\n",
              ".inv_background { background-color: #000000; }\n",
              "</style>\n",
              "</head>\n",
              "<body class=\"body_foreground body_background\" style=\"font-size: normal;\" >\n",
              "<pre class=\"ansi2html-content\">\n",
              "Esta aplicação treina o modelo generativo do google para analisar uma imagem (print) de um gráfico de um ativo financeiro de acordo com o método que desenvolvi e retorna uma avaliação de contexto com possíveis cenários de operação. Faça um print de um gráfico que deseja analisar, salve-o em uma pasta do seu computador e carregue-o na aplicação quando solicitado.\n",
              "</pre>\n",
              "</body>\n",
              "\n",
              "</html>\n",
              "\n",
              "  "
            ]
          },
          "metadata": {}
        }
      ]
    },
    {
      "cell_type": "code",
      "source": [
        "# Montando meu google drive\n",
        "drive.mount('/content/drive')"
      ],
      "metadata": {
        "colab": {
          "base_uri": "https://localhost:8080/"
        },
        "id": "RIeH085a0U8N",
        "outputId": "7fe22ace-7ea2-4c24-e40d-da9162e7c006"
      },
      "execution_count": 22,
      "outputs": [
        {
          "output_type": "stream",
          "name": "stdout",
          "text": [
            "Drive already mounted at /content/drive; to attempt to forcibly remount, call drive.mount(\"/content/drive\", force_remount=True).\n"
          ]
        }
      ]
    },
    {
      "cell_type": "code",
      "source": [
        "# Caminho para a imagem dentro da pasta \"Colab Notebooks/Imersao IA Alura + Google - Projeto/\"\n",
        "caminho_imagem = '/content/drive/My Drive/Colab Notebooks/Imersao IA Alura + Google - Projeto/'\n",
        "print(caminho_imagem)"
      ],
      "metadata": {
        "colab": {
          "base_uri": "https://localhost:8080/"
        },
        "id": "zpzQqweN1FCY",
        "outputId": "1da214f8-6761-4b40-9d04-37df98ec12d0"
      },
      "execution_count": 23,
      "outputs": [
        {
          "output_type": "stream",
          "name": "stdout",
          "text": [
            "/content/drive/My Drive/Colab Notebooks/Imersao IA Alura + Google - Projeto/\n"
          ]
        }
      ]
    },
    {
      "cell_type": "code",
      "source": [
        "# Conectando sua API_KEI, configure sua API_KEY como a variável de ambiente 'SECRET_KEY'\n",
        "GOOGLE_API_KEY = userdata.get('SECRET_KEY')\n",
        "genai.configure(api_key=GOOGLE_API_KEY)\n"
      ],
      "metadata": {
        "id": "4bXXa3NxXuvA"
      },
      "execution_count": 24,
      "outputs": []
    },
    {
      "cell_type": "code",
      "source": [
        "# Capturando o caminho para a imagem a ser analisada\n",
        "uploaded = files.upload()"
      ],
      "metadata": {
        "colab": {
          "base_uri": "https://localhost:8080/",
          "height": 73
        },
        "id": "h1a_fzWWfUbe",
        "outputId": "8bbb0ff8-5eaa-4ed0-e4c5-d2f0105fc6b3"
      },
      "execution_count": 30,
      "outputs": [
        {
          "output_type": "display_data",
          "data": {
            "text/plain": [
              "<IPython.core.display.HTML object>"
            ],
            "text/html": [
              "\n",
              "     <input type=\"file\" id=\"files-d0e36edb-2035-44e3-b77a-12a5a5a1d4eb\" name=\"files[]\" multiple disabled\n",
              "        style=\"border:none\" />\n",
              "     <output id=\"result-d0e36edb-2035-44e3-b77a-12a5a5a1d4eb\">\n",
              "      Upload widget is only available when the cell has been executed in the\n",
              "      current browser session. Please rerun this cell to enable.\n",
              "      </output>\n",
              "      <script>// Copyright 2017 Google LLC\n",
              "//\n",
              "// Licensed under the Apache License, Version 2.0 (the \"License\");\n",
              "// you may not use this file except in compliance with the License.\n",
              "// You may obtain a copy of the License at\n",
              "//\n",
              "//      http://www.apache.org/licenses/LICENSE-2.0\n",
              "//\n",
              "// Unless required by applicable law or agreed to in writing, software\n",
              "// distributed under the License is distributed on an \"AS IS\" BASIS,\n",
              "// WITHOUT WARRANTIES OR CONDITIONS OF ANY KIND, either express or implied.\n",
              "// See the License for the specific language governing permissions and\n",
              "// limitations under the License.\n",
              "\n",
              "/**\n",
              " * @fileoverview Helpers for google.colab Python module.\n",
              " */\n",
              "(function(scope) {\n",
              "function span(text, styleAttributes = {}) {\n",
              "  const element = document.createElement('span');\n",
              "  element.textContent = text;\n",
              "  for (const key of Object.keys(styleAttributes)) {\n",
              "    element.style[key] = styleAttributes[key];\n",
              "  }\n",
              "  return element;\n",
              "}\n",
              "\n",
              "// Max number of bytes which will be uploaded at a time.\n",
              "const MAX_PAYLOAD_SIZE = 100 * 1024;\n",
              "\n",
              "function _uploadFiles(inputId, outputId) {\n",
              "  const steps = uploadFilesStep(inputId, outputId);\n",
              "  const outputElement = document.getElementById(outputId);\n",
              "  // Cache steps on the outputElement to make it available for the next call\n",
              "  // to uploadFilesContinue from Python.\n",
              "  outputElement.steps = steps;\n",
              "\n",
              "  return _uploadFilesContinue(outputId);\n",
              "}\n",
              "\n",
              "// This is roughly an async generator (not supported in the browser yet),\n",
              "// where there are multiple asynchronous steps and the Python side is going\n",
              "// to poll for completion of each step.\n",
              "// This uses a Promise to block the python side on completion of each step,\n",
              "// then passes the result of the previous step as the input to the next step.\n",
              "function _uploadFilesContinue(outputId) {\n",
              "  const outputElement = document.getElementById(outputId);\n",
              "  const steps = outputElement.steps;\n",
              "\n",
              "  const next = steps.next(outputElement.lastPromiseValue);\n",
              "  return Promise.resolve(next.value.promise).then((value) => {\n",
              "    // Cache the last promise value to make it available to the next\n",
              "    // step of the generator.\n",
              "    outputElement.lastPromiseValue = value;\n",
              "    return next.value.response;\n",
              "  });\n",
              "}\n",
              "\n",
              "/**\n",
              " * Generator function which is called between each async step of the upload\n",
              " * process.\n",
              " * @param {string} inputId Element ID of the input file picker element.\n",
              " * @param {string} outputId Element ID of the output display.\n",
              " * @return {!Iterable<!Object>} Iterable of next steps.\n",
              " */\n",
              "function* uploadFilesStep(inputId, outputId) {\n",
              "  const inputElement = document.getElementById(inputId);\n",
              "  inputElement.disabled = false;\n",
              "\n",
              "  const outputElement = document.getElementById(outputId);\n",
              "  outputElement.innerHTML = '';\n",
              "\n",
              "  const pickedPromise = new Promise((resolve) => {\n",
              "    inputElement.addEventListener('change', (e) => {\n",
              "      resolve(e.target.files);\n",
              "    });\n",
              "  });\n",
              "\n",
              "  const cancel = document.createElement('button');\n",
              "  inputElement.parentElement.appendChild(cancel);\n",
              "  cancel.textContent = 'Cancel upload';\n",
              "  const cancelPromise = new Promise((resolve) => {\n",
              "    cancel.onclick = () => {\n",
              "      resolve(null);\n",
              "    };\n",
              "  });\n",
              "\n",
              "  // Wait for the user to pick the files.\n",
              "  const files = yield {\n",
              "    promise: Promise.race([pickedPromise, cancelPromise]),\n",
              "    response: {\n",
              "      action: 'starting',\n",
              "    }\n",
              "  };\n",
              "\n",
              "  cancel.remove();\n",
              "\n",
              "  // Disable the input element since further picks are not allowed.\n",
              "  inputElement.disabled = true;\n",
              "\n",
              "  if (!files) {\n",
              "    return {\n",
              "      response: {\n",
              "        action: 'complete',\n",
              "      }\n",
              "    };\n",
              "  }\n",
              "\n",
              "  for (const file of files) {\n",
              "    const li = document.createElement('li');\n",
              "    li.append(span(file.name, {fontWeight: 'bold'}));\n",
              "    li.append(span(\n",
              "        `(${file.type || 'n/a'}) - ${file.size} bytes, ` +\n",
              "        `last modified: ${\n",
              "            file.lastModifiedDate ? file.lastModifiedDate.toLocaleDateString() :\n",
              "                                    'n/a'} - `));\n",
              "    const percent = span('0% done');\n",
              "    li.appendChild(percent);\n",
              "\n",
              "    outputElement.appendChild(li);\n",
              "\n",
              "    const fileDataPromise = new Promise((resolve) => {\n",
              "      const reader = new FileReader();\n",
              "      reader.onload = (e) => {\n",
              "        resolve(e.target.result);\n",
              "      };\n",
              "      reader.readAsArrayBuffer(file);\n",
              "    });\n",
              "    // Wait for the data to be ready.\n",
              "    let fileData = yield {\n",
              "      promise: fileDataPromise,\n",
              "      response: {\n",
              "        action: 'continue',\n",
              "      }\n",
              "    };\n",
              "\n",
              "    // Use a chunked sending to avoid message size limits. See b/62115660.\n",
              "    let position = 0;\n",
              "    do {\n",
              "      const length = Math.min(fileData.byteLength - position, MAX_PAYLOAD_SIZE);\n",
              "      const chunk = new Uint8Array(fileData, position, length);\n",
              "      position += length;\n",
              "\n",
              "      const base64 = btoa(String.fromCharCode.apply(null, chunk));\n",
              "      yield {\n",
              "        response: {\n",
              "          action: 'append',\n",
              "          file: file.name,\n",
              "          data: base64,\n",
              "        },\n",
              "      };\n",
              "\n",
              "      let percentDone = fileData.byteLength === 0 ?\n",
              "          100 :\n",
              "          Math.round((position / fileData.byteLength) * 100);\n",
              "      percent.textContent = `${percentDone}% done`;\n",
              "\n",
              "    } while (position < fileData.byteLength);\n",
              "  }\n",
              "\n",
              "  // All done.\n",
              "  yield {\n",
              "    response: {\n",
              "      action: 'complete',\n",
              "    }\n",
              "  };\n",
              "}\n",
              "\n",
              "scope.google = scope.google || {};\n",
              "scope.google.colab = scope.google.colab || {};\n",
              "scope.google.colab._files = {\n",
              "  _uploadFiles,\n",
              "  _uploadFilesContinue,\n",
              "};\n",
              "})(self);\n",
              "</script> "
            ]
          },
          "metadata": {}
        },
        {
          "output_type": "stream",
          "name": "stdout",
          "text": [
            "Saving BTCUSD_2024-05-11_16-50-07.png to BTCUSD_2024-05-11_16-50-07 (1).png\n"
          ]
        }
      ]
    },
    {
      "cell_type": "code",
      "source": [
        "# Obtém o nome do arquivo enviado\n",
        "for filename in uploaded.keys():\n",
        "  print('Arquivo \"{}\" enviado com sucesso!'.format(filename))"
      ],
      "metadata": {
        "colab": {
          "base_uri": "https://localhost:8080/"
        },
        "id": "_M76x697gYC1",
        "outputId": "5f90fffd-1a75-4c58-b4b4-2164a886a9fa"
      },
      "execution_count": 31,
      "outputs": [
        {
          "output_type": "stream",
          "name": "stdout",
          "text": [
            "Arquivo \"BTCUSD_2024-05-11_16-50-07 (1).png\" enviado com sucesso!\n"
          ]
        }
      ]
    },
    {
      "cell_type": "code",
      "source": [
        "# Configurando e inicializando o Modelo\n",
        "generation_config = {\n",
        "  \"temperature\": 0.5,\n",
        "  \"top_p\": 0.95,\n",
        "  \"top_k\": 0,\n",
        "  \"max_output_tokens\": 8192,\n",
        "}\n",
        "\n",
        "safety_settings = [\n",
        "  {\n",
        "    \"category\": \"HARM_CATEGORY_HARASSMENT\",\n",
        "    \"threshold\": \"BLOCK_MEDIUM_AND_ABOVE\"\n",
        "  },\n",
        "  {\n",
        "    \"category\": \"HARM_CATEGORY_HATE_SPEECH\",\n",
        "    \"threshold\": \"BLOCK_MEDIUM_AND_ABOVE\"\n",
        "  },\n",
        "  {\n",
        "    \"category\": \"HARM_CATEGORY_SEXUALLY_EXPLICIT\",\n",
        "    \"threshold\": \"BLOCK_MEDIUM_AND_ABOVE\"\n",
        "  },\n",
        "  {\n",
        "    \"category\": \"HARM_CATEGORY_DANGEROUS_CONTENT\",\n",
        "    \"threshold\": \"BLOCK_MEDIUM_AND_ABOVE\"\n",
        "  },\n",
        "]\n",
        "\n",
        "model = genai.GenerativeModel(model_name=\"gemini-1.5-pro-latest\",\n",
        "                              generation_config=generation_config,\n",
        "                              safety_settings=safety_settings)\n"
      ],
      "metadata": {
        "id": "-zrSV6neYRrS"
      },
      "execution_count": 32,
      "outputs": []
    },
    {
      "cell_type": "code",
      "source": [
        "prompt_parts = [\n",
        "\n",
        "# aqui seguem exemplos de análise no meu método e com meu padrão de saída para o aprendizado do gemini\n",
        "# as imagens foram salvas em uma pasta dentro do meu google drive, quem desejar executar deve copiar as imagens e atualizar a variável caminho_imagem\n",
        "\n",
        "  \"input: Imagem \",\n",
        "  genai.upload_file(caminho_imagem+\"WDO20191014.png\"),\n",
        "  \"output:WDO - Estudo de mercado para 14/10/19. O Mercado demonstra neutralidade entre compradores e vendedores. O último pregão foi marcado por bastante volatilidade redefinindo a zona de resistência da consolidação atual para 4137,5/4143 e mantendo sua base na região de 4061,5/4056,5. O topo da consolidação sofreu o segundo teste, mas como produziu forte movimento ainda pode resistir a um próximo e gerar boa reação. A base da consolidação foi testada apenas uma vez, sendo boa oportunidade de compra com excelente expectativa de alvo. – Possíveis cenários – 1 – Continuação da consolidação atual R2 – Vender, Excelente TL + 61,8% Fibo + PL 02/10. S3 – Comprar, Excelente TL. 2 – Rompimento R2 – Comprar, se houver descanso antes e bom volume. 3 – Falso rompimento. R2 – Vender, se faltar convicção no rompimento e ocorrer sem descanso e sem volume. S3 – Comprar, se faltar convicção no rompimento e ocorrer sem descanso e sem volume. \",\n",
        "\n",
        "  \"input: Imagem \",\n",
        "  genai.upload_file(caminho_imagem+\"WDO20191016.png\"),\n",
        "  \"output:WDO - Estudo de mercado para 16/10/19. Apesar do forte movimento de compra que rompeu a consolidação atual, o Mercado ainda demonstra neutralidade no contexto geral sendo neutro no tempo gráfico médio, mas mantendo o viés comprador nos tempos G e P, portanto sem alinhamento de tempos gráficos. O preço está agora próximo a resistência do topo da consolidação anterior, testada 2x mais de 10 dias atrás, sendo este o terceiro teste em um contexto de preço já esticado num movimento de alta de aproximadamente 102 pontos e assim uma venda com bom resultado ainda pode ser possível nesta região, onde provavelmente os vendedores vão tentar defender suas posições. – Possíveis cenários – 1 – Continuação da consolidação atual R1, Vender Topo da consolidação anterior, zona forte, alvo na HVN+Vpoc. R3, Vender Topo Histórico, zona S. forte, alvo na zona abaixo. S2, Comprar Teste do Rompimento, zona forte, convergência com 38,2% e 50% de fibo, alvo na Vpoc. 2 – Rompimento R2 – Comprar, se houver descanso antes e bom volume. 3 – Falso rompimento. R1 – Vender, se faltar convicção no rompimento e ocorrer sem descanso e sem volume. S2 – Comprar em S3, se faltar convicção no rompimento de S2 e ocorrer sem descanso e sem volume, convergência com 50% e 61,8% de fibo. \",\n",
        "\n",
        "  \"input: Imagem \",\n",
        "  genai.upload_file(caminho_imagem+\"WDO20191017.png\"),\n",
        "  \"output:WDO - Estudo de mercado para 17/10/19. Depois do forte movimento de compra que rompeu a consolidação anterior, o Mercado reverteu ao testar pela terceira vez o o topo da consolidação do tempo médio. O contexto geral é neutro, sendo o tempo gráfico médio neutro, mas mantendo o viés comprador nos tempos G e P. O preço está agora exatamente na Vpoc do dia anterior, onde houve o maior volume de negociações. Se a zona na região da Vpoc for rompida, a continuação do movimento de venda deve levar ao teste do rompimento da consolidação anterior, este sempre configura boa oportunidade de compra. Logo abaixo há uma zona de suporte com importantes referencias e convergência com 61,8% e 50% de Fibo, então podeira ser boa oportunidade de compra, mas levando em conta que para chegar aqui o preço precisaria romper a zona superior, que tem maior importância e é topo de uma consolidação de boa magnitude não vou arriscar esta compra, as chances de dar errado são significativas. – Possíveis cenários – 1 – Continuação da consolidação atual R3, Vender Topo Histórico, zona S. forte, alvo na zona abaixo. S2, Comprar Teste do Rompimento, zona forte, convergência com 38,2% e 50% de fibo, alvo na Vpoc. 2 – Rompimento R4 – Comprar, range esgotado, zona com convergência da HVN + Vpoc. 3 – Falso rompimento. R1 – Vender, se faltar convicção no rompimento e ocorrer sem descanso e sem volume. S2 – Comprar em S3, se faltar convicção no rompimento de S2 e ocorrer sem descanso e sem volume, convergência com 50% e 61,8% de fibo. \",\n",
        "\n",
        "  \"input: Imagem \",\n",
        "  genai.upload_file(caminho_imagem+\"WDO20191018.png\"),\n",
        "  \"output:WDO - Estudo de mercado para 18/10/19. Nova consolidação formada com os movimentos dos últimos 3 dias. No último pregão um falso rompimento na zona do TR abriu espaço para os compradores levarem o preço até próximo ao topo da consolidação. Levando em conta que a consolidação atual tem um intervalo de mais de duas semanas da consolidação anterior na mesma região vou considerar a zona do topo como testada apenas uma vez. Assim um novo teste ainda pode produzir bom resultado considerando Contexto do Mercado\\ntambém sua importância no contexto dos últimos dois meses.\\nSe o topo desta consolidação for rompido com muito volume e convicção é provável uma boa expansão do range. No entanto um rompimento com baixo volume e range do dia já\\nbem consumido pode dar a oportunidade de uma reação de venda no zona do topo histórico.\\nAjustei a base da consolidação para abaixo da mínima de hoje no nível de preço do ponto de lançamento de 15/10, da mínima de 26/09 e convergência com 61,8% e 50% de Fibo, portanto esta nova zona ajustada é boa oportunidade de compra. Abaixo desta zona, a próxima oportunidade de compra está na região da HVN+Vpoc com range médio para o dia praticamente esgotado e por último a base da antiga consolidação.\\n– Possíveis cenários –\\n1 – Continuação da consolidação atual\\nR2, Vender Topo da consolidação, zona forte.\\nR3, Vender Topo Histórico, zona S. forte, alvo na zona abaixo.\\n2 – Rompimento\\n3 – Falso rompimento.\\nR2 – Vender, se faltar convicção no rompimento e ocorrer sem descanso e sem volume.\\nS2 – Comprar, se faltar convicção no rompimento e ocorrer sem descanso e sem volume.\",\n",
        "\n",
        "   \"input: Imagem \",\n",
        "  genai.upload_file(caminho_imagem+\"WDO20191021.png\"),\n",
        "  \"output:WDO - Estudo de mercado para 21/10/19. Dia de hoje foi marcado pelo Rompimento de venda após consolidar por 3 dias. O preço ainda não atingiu a HVN da consolidação anterior e tão pouco expandiu em cerca de 100% a consolidação atual. Desta forma é possível uma continuação do movimento de baixa testando a S2 onde temos a VPOC+HVN ainda não testadas ou TR combinado com um PC antes da continuação do movimento já que há convergência de 38,2% de fibo e Vwap na zona de suporte rompida agora nova resistência. Se a continuação do movimento vendedor for forte o suficiente para romper a zona na região da VPOC+HVN o preço deve chegar a S3, base da consolidação anterior e zona forte. Logo abaixo uma zona S. Forte com ordem de compra automática com range do dia esgotado e excelente TL. No caso de um retorno a consolidação superior teremos um padrão de FR em ação e portanto a única venda viável seria no topo em R5. – Possíveis cenários – falso rompimento e novas consolidações. 1 – Continuação da consolidação atual R2, Vender Topo da consolidação TR, zona forte. S2, Comprar, zona forte, convergência com Vpoc+HVN. 2 – Rompimento S4, Comprar, zona s. forte. 3 – Falso rompimento. R2 – Vender, se faltar convicção no rompimento e ocorrer sem descanso e sem volume. S3 – Comprar, se faltar convicção no rompimento e ocorrer sem descanso e sem volume. \",\n",
        "\n",
        "# aqui é a entrada para a imagem carregada pelo usuário e será analisada pelo gemini\n",
        "  \"input: Imagem \",\n",
        "  genai.upload_file(filename),\n",
        "  \"output:\",\n",
        "\n",
        "]\n",
        "\n",
        "response = model.generate_content(prompt_parts)\n",
        "\n",
        "resposta_formatada = formatar_resposta(response.text)\n",
        "\n",
        "display(resposta_formatada)"
      ],
      "metadata": {
        "colab": {
          "base_uri": "https://localhost:8080/",
          "height": 139
        },
        "id": "Z3gJpOgJZbfn",
        "outputId": "8da4a86c-f3ed-4a5c-a6cf-49c694a21c78"
      },
      "execution_count": 33,
      "outputs": [
        {
          "output_type": "display_data",
          "data": {
            "text/plain": [
              "<IPython.core.display.HTML object>"
            ],
            "text/html": [
              "\n",
              "  <style>\n",
              "    body {\n",
              "      font-family: sans-serif;\n",
              "      background-color: #f7f7f7;\n",
              "      color: #333;\n",
              "    }\n",
              "    strong { font-weight: 600; }\n",
              "    em { font-style: italic; }\n",
              "    h1 { font-size: 1.3em; color: #555; }\n",
              "    p { font-size: 1.1em; line-height: 1.6; }\n",
              "    .destaque {\n",
              "      font-size: 1.2em;\n",
              "      color: #333;\n",
              "      padding: 0.2em;\n",
              "      border-radius: 4px;\n",
              "      background-color: #e0e0e0;\n",
              "    }\n",
              "  </style>\n",
              "  <!DOCTYPE HTML PUBLIC \"-//W3C//DTD HTML 4.01 Transitional//EN\" \"http://www.w3.org/TR/html4/loose.dtd\">\n",
              "<html>\n",
              "<head>\n",
              "<meta http-equiv=\"Content-Type\" content=\"text/html; charset=utf-8\">\n",
              "<title></title>\n",
              "<style type=\"text/css\">\n",
              ".ansi2html-content { display: inline; white-space: pre-wrap; word-wrap: break-word; }\n",
              ".body_foreground { color: #000000; }\n",
              ".body_background { background-color: #AAAAAA; }\n",
              ".inv_foreground { color: #AAAAAA; }\n",
              ".inv_background { background-color: #000000; }\n",
              "</style>\n",
              "</head>\n",
              "<body class=\"body_foreground body_background\" style=\"font-size: normal;\" >\n",
              "<pre class=\"ansi2html-content\">\n",
              "O Bitcoin está em tendência de baixa no curto prazo, tendo rompido o suporte em torno de $61.500. Se a pressão de venda continuar, o próximo nível de suporte é em torno de $60.000. Se o Bitcoin conseguir se manter acima desse nível, ele pode tentar se recuperar. No entanto, se o suporte de $60.000 for rompido, o Bitcoin pode cair ainda mais.\n",
              "\n",
              "É importante observar que o mercado de criptomoedas é muito volátil e as coisas podem mudar rapidamente. Portanto, é importante fazer sua própria pesquisa e não investir mais do que você pode perder.\n",
              "\n",
              "</pre>\n",
              "</body>\n",
              "\n",
              "</html>\n",
              "\n",
              "  "
            ]
          },
          "metadata": {}
        }
      ]
    }
  ]
}